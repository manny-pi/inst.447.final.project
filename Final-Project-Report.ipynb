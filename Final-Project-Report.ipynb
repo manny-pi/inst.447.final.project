{
 "cells": [
  {
   "attachments": {},
   "cell_type": "markdown",
   "metadata": {},
   "source": [
    "# Final Project Report"
   ]
  },
  {
   "attachments": {},
   "cell_type": "markdown",
   "metadata": {},
   "source": [
    "# Introduction (several paragraphs)\n",
    "explains data (source, variables, collection method etc), goal, and motivation for goal"
   ]
  },
  {
   "attachments": {},
   "cell_type": "markdown",
   "metadata": {},
   "source": [
    "Climate change is a phrase we here often in our lives nowadays, and we are often left wondering about the causes and how we can affect change. For our project, we decided to take a look at local climate trends over the last 50 years and what might be affecting them. More specifically, we have decided to analyze the level of annual CO2 emissions in DC since 1970 and compare this to the annual average temperature of DC over the same period of time.\n",
    "\n",
    "In order to complete our analysis, we would need to collect data about DC temperature and emissions trend over the past 50 years. Fortunately, this variety of data is readily available directly from government managed sources. Our emissions data was collected from the US Energy Information Administration (EIA) and included the CO2 emissions in million metric tons by state from 1970 to 2020. This dataset used states for index and years for columns, so data cleaning was necessary which we will detail in the following section.\n",
    "\n",
    "The next data we needed to seek was historical temperature data for DC. This data was accessible from NOAA. The data set included DC's monthly, annual, and seasonal average temperature ranging from 1871 to March of 2023. It should be noted that this data was accessed in the form of a pdf, so online software was needed to convert the pdf dataset into a csv. Since the dataset is small enough to read over manually, we were able to ensure that no data was lost in this process.\n",
    "\n",
    "Our goal is to determine whether historical emissions may have had an impact on temperature trends in DC over the past 50 years. We will create a visualization to see the trends, as well as perform a regression analysis to see if there are any significant findings."
   ]
  },
  {
   "attachments": {},
   "cell_type": "markdown",
   "metadata": {},
   "source": [
    "# Method (length depends on project)\n",
    "explains in detail the cleaning, preprocessing steps, and analytic steps you took. Should be detailed enough someone else could replicate your work."
   ]
  },
  {
   "attachments": {},
   "cell_type": "markdown",
   "metadata": {},
   "source": [
    "The emissions data set was originally downloaded as an excel file, which allowed us to do preprocessing in excel without having to manually drop columns or rows with pandas. The first step was to take only the data for DC since the data set included emissions data for every state. To do this we copied only column names and the row of data for DC, then pasted it into a new excel sheet. We saved this as a csv titled 'DCemissions.csv' that we could import into our notebook workspace. Once we read the csv file into our workspace, there were a couple columns at the end that were not relevant to our intended use, so we dropped them from the dataframe and were ready to move on to the temperature data.\n",
    "\n",
    "The dataset containing DC's historic temperature trends required a few more processing steps than the emissions data. Initially, the dataset was in pdf format, seemingly serving only the purpose of allowing the public to view the historic data. To get the data into a workable format, we used a free pdf to excel converter to put the data into excel and prepare it for further cleaning. Within excel there were a few changes we made before downloading the data to a csv. First, the pdf version of the data repeated the column headers on each page, so we had to remove all of the repeated headers. There were also some rows which were completely empty, so we went through and cut each of these rows from the data set. Finally, the temperature data ranged from 1871 to the most recent month of 2023, while the emissions data only spanned from 1970 to 2020, so we shortened the temperature data to the same range. We then converted the excel file to a csv titled \"DCtemps.csv\" and imported it into the workspace. \n",
    "\n",
    "For our main analysis, we wanted to compare DC's annual temperature with its annual emissions over the selected date range Unfortunately, one of our datasets was in a wide format and one was in a long format. Luckily, we now know how to handle this issue and it wasn't too big of an issue. We wanted the final dataset to be in long format, so we needed to adjust the emissions dataframe. Since the emissions dataframe had each year's emissions as its own column, we decided to melt the dataframe so that there was a column for year and a column for emissions. We then dropped the column which repeated \"Disctrict of Columbia\" for each row. Next, we moved over to the termperature dataset and dropped all columns except for year and annual temperature.\n",
    "\n",
    "Now, we were ready to combine the two dataframes. We decided to do this using the concat function, then we dropped the extra \"year\" column that came as a result of the process. Finally, we made \"Year\" the index of the dataframe for visualization purposes. \n",
    "\n",
    "The final step was to create our visualization for our analysis. At first, we decided to plot a multi-bar plot. The plot shows each year's temperature and emissions. The problem with this plot is that the two attributes of interest do not share the same unit of measure on the y-axis, making the graph difficult to read. Our solution for this issue was to create a double-axis line chart. Not only would a line chart be more suitable for analyzing change over time, but it would also allow us to see both attributes on a similar scale so that we could more easily compare their changes."
   ]
  },
  {
   "attachments": {},
   "cell_type": "markdown",
   "metadata": {},
   "source": [
    "# Preprocessing (length depends on project)\n",
    "cleans and manipulates data into the right format for analysis"
   ]
  },
  {
   "cell_type": "code",
   "execution_count": 1,
   "metadata": {},
   "outputs": [],
   "source": [
    "import pandas as pd\n",
    "import statistics as stat\n",
    "import matplotlib as plt\n",
    "import matplotlib.pyplot as plt\n",
    "import numpy as np"
   ]
  },
  {
   "cell_type": "code",
   "execution_count": 2,
   "metadata": {},
   "outputs": [
    {
     "data": {
      "text/html": [
       "<div>\n",
       "<style scoped>\n",
       "    .dataframe tbody tr th:only-of-type {\n",
       "        vertical-align: middle;\n",
       "    }\n",
       "\n",
       "    .dataframe tbody tr th {\n",
       "        vertical-align: top;\n",
       "    }\n",
       "\n",
       "    .dataframe thead th {\n",
       "        text-align: right;\n",
       "    }\n",
       "</style>\n",
       "<table border=\"1\" class=\"dataframe\">\n",
       "  <thead>\n",
       "    <tr style=\"text-align: right;\">\n",
       "      <th></th>\n",
       "      <th>State</th>\n",
       "      <th>1970</th>\n",
       "      <th>1971</th>\n",
       "      <th>1972</th>\n",
       "      <th>1973</th>\n",
       "      <th>1974</th>\n",
       "      <th>1975</th>\n",
       "      <th>1976</th>\n",
       "      <th>1977</th>\n",
       "      <th>1978</th>\n",
       "      <th>...</th>\n",
       "      <th>2015</th>\n",
       "      <th>2016</th>\n",
       "      <th>2017</th>\n",
       "      <th>2018</th>\n",
       "      <th>2019</th>\n",
       "      <th>2020</th>\n",
       "      <th>Percent</th>\n",
       "      <th>Absolute</th>\n",
       "      <th>Percent.1</th>\n",
       "      <th>Absolute.1</th>\n",
       "    </tr>\n",
       "  </thead>\n",
       "  <tbody>\n",
       "    <tr>\n",
       "      <th>0</th>\n",
       "      <td>District of Columbia</td>\n",
       "      <td>13.6</td>\n",
       "      <td>11.9</td>\n",
       "      <td>11.3</td>\n",
       "      <td>11.9</td>\n",
       "      <td>9.8</td>\n",
       "      <td>7.9</td>\n",
       "      <td>7.7</td>\n",
       "      <td>7.9</td>\n",
       "      <td>7.5</td>\n",
       "      <td>...</td>\n",
       "      <td>3.0</td>\n",
       "      <td>2.8</td>\n",
       "      <td>2.6</td>\n",
       "      <td>2.9</td>\n",
       "      <td>2.8</td>\n",
       "      <td>2.4</td>\n",
       "      <td>-82.4%</td>\n",
       "      <td>-11.2</td>\n",
       "      <td>-14.5%</td>\n",
       "      <td>-0.4</td>\n",
       "    </tr>\n",
       "  </tbody>\n",
       "</table>\n",
       "<p>1 rows × 56 columns</p>\n",
       "</div>"
      ],
      "text/plain": [
       "                  State  1970  1971  1972  1973  1974  1975  1976  1977  1978  \\\n",
       "0  District of Columbia  13.6  11.9  11.3  11.9   9.8   7.9   7.7   7.9   7.5   \n",
       "\n",
       "   ...  2015  2016  2017  2018  2019  2020  Percent  Absolute  Percent.1  \\\n",
       "0  ...   3.0   2.8   2.6   2.9   2.8   2.4   -82.4%     -11.2     -14.5%   \n",
       "\n",
       "   Absolute.1  \n",
       "0        -0.4  \n",
       "\n",
       "[1 rows x 56 columns]"
      ]
     },
     "execution_count": 2,
     "metadata": {},
     "output_type": "execute_result"
    }
   ],
   "source": [
    "# Read DC Emissions data from csv file\n",
    "DCemissions = pd.read_csv('data/DCemissions.csv')\n",
    "DCemissions.head()"
   ]
  },
  {
   "cell_type": "code",
   "execution_count": 3,
   "metadata": {},
   "outputs": [
    {
     "data": {
      "text/html": [
       "<div>\n",
       "<style scoped>\n",
       "    .dataframe tbody tr th:only-of-type {\n",
       "        vertical-align: middle;\n",
       "    }\n",
       "\n",
       "    .dataframe tbody tr th {\n",
       "        vertical-align: top;\n",
       "    }\n",
       "\n",
       "    .dataframe thead th {\n",
       "        text-align: right;\n",
       "    }\n",
       "</style>\n",
       "<table border=\"1\" class=\"dataframe\">\n",
       "  <thead>\n",
       "    <tr style=\"text-align: right;\">\n",
       "      <th></th>\n",
       "      <th>YEAR</th>\n",
       "      <th>JAN</th>\n",
       "      <th>FEB</th>\n",
       "      <th>MAR</th>\n",
       "      <th>APR</th>\n",
       "      <th>MAY</th>\n",
       "      <th>JUN</th>\n",
       "      <th>JUL</th>\n",
       "      <th>AUG</th>\n",
       "      <th>SEP</th>\n",
       "      <th>...</th>\n",
       "      <th>NOV</th>\n",
       "      <th>DEC</th>\n",
       "      <th>ANN</th>\n",
       "      <th>WINTER</th>\n",
       "      <th>SPRING</th>\n",
       "      <th>SUMMER</th>\n",
       "      <th>AUTUMN</th>\n",
       "      <th>1ST HALF</th>\n",
       "      <th>2ND HALF</th>\n",
       "      <th>Unnamed: 20</th>\n",
       "    </tr>\n",
       "  </thead>\n",
       "  <tbody>\n",
       "    <tr>\n",
       "      <th>0</th>\n",
       "      <td>1970</td>\n",
       "      <td>30.0</td>\n",
       "      <td>37.1</td>\n",
       "      <td>41.9</td>\n",
       "      <td>55.3</td>\n",
       "      <td>68.3</td>\n",
       "      <td>75.2</td>\n",
       "      <td>79.2</td>\n",
       "      <td>79.0</td>\n",
       "      <td>75.0</td>\n",
       "      <td>...</td>\n",
       "      <td>49.3</td>\n",
       "      <td>39.7</td>\n",
       "      <td>57.7</td>\n",
       "      <td>34.5</td>\n",
       "      <td>55.2</td>\n",
       "      <td>77.8</td>\n",
       "      <td>62.3</td>\n",
       "      <td>51.3</td>\n",
       "      <td>64.1</td>\n",
       "      <td>NaN</td>\n",
       "    </tr>\n",
       "    <tr>\n",
       "      <th>1</th>\n",
       "      <td>1971</td>\n",
       "      <td>31.3</td>\n",
       "      <td>39.1</td>\n",
       "      <td>43.2</td>\n",
       "      <td>55.0</td>\n",
       "      <td>63.7</td>\n",
       "      <td>75.9</td>\n",
       "      <td>78.3</td>\n",
       "      <td>76.7</td>\n",
       "      <td>73.0</td>\n",
       "      <td>...</td>\n",
       "      <td>48.2</td>\n",
       "      <td>45.5</td>\n",
       "      <td>57.9</td>\n",
       "      <td>36.7</td>\n",
       "      <td>54.0</td>\n",
       "      <td>77.0</td>\n",
       "      <td>62.0</td>\n",
       "      <td>51.4</td>\n",
       "      <td>64.4</td>\n",
       "      <td>NaN</td>\n",
       "    </tr>\n",
       "    <tr>\n",
       "      <th>2</th>\n",
       "      <td>1972</td>\n",
       "      <td>38.5</td>\n",
       "      <td>36.5</td>\n",
       "      <td>45.6</td>\n",
       "      <td>54.1</td>\n",
       "      <td>64.6</td>\n",
       "      <td>70.2</td>\n",
       "      <td>77.5</td>\n",
       "      <td>75.9</td>\n",
       "      <td>71.0</td>\n",
       "      <td>...</td>\n",
       "      <td>46.8</td>\n",
       "      <td>43.6</td>\n",
       "      <td>56.7</td>\n",
       "      <td>40.2</td>\n",
       "      <td>54.8</td>\n",
       "      <td>74.5</td>\n",
       "      <td>57.9</td>\n",
       "      <td>51.6</td>\n",
       "      <td>61.8</td>\n",
       "      <td>NaN</td>\n",
       "    </tr>\n",
       "    <tr>\n",
       "      <th>3</th>\n",
       "      <td>1973</td>\n",
       "      <td>37.6</td>\n",
       "      <td>37.0</td>\n",
       "      <td>51.1</td>\n",
       "      <td>56.0</td>\n",
       "      <td>62.8</td>\n",
       "      <td>77.1</td>\n",
       "      <td>79.2</td>\n",
       "      <td>79.9</td>\n",
       "      <td>74.3</td>\n",
       "      <td>...</td>\n",
       "      <td>51.6</td>\n",
       "      <td>41.9</td>\n",
       "      <td>59.3</td>\n",
       "      <td>39.4</td>\n",
       "      <td>56.6</td>\n",
       "      <td>78.7</td>\n",
       "      <td>63.1</td>\n",
       "      <td>53.6</td>\n",
       "      <td>65.0</td>\n",
       "      <td>NaN</td>\n",
       "    </tr>\n",
       "    <tr>\n",
       "      <th>4</th>\n",
       "      <td>1974</td>\n",
       "      <td>42.9</td>\n",
       "      <td>39.2</td>\n",
       "      <td>49.2</td>\n",
       "      <td>58.3</td>\n",
       "      <td>65.1</td>\n",
       "      <td>71.5</td>\n",
       "      <td>79.0</td>\n",
       "      <td>78.4</td>\n",
       "      <td>70.2</td>\n",
       "      <td>...</td>\n",
       "      <td>50.9</td>\n",
       "      <td>43.1</td>\n",
       "      <td>58.8</td>\n",
       "      <td>41.3</td>\n",
       "      <td>57.5</td>\n",
       "      <td>76.3</td>\n",
       "      <td>59.5</td>\n",
       "      <td>54.4</td>\n",
       "      <td>63.2</td>\n",
       "      <td>NaN</td>\n",
       "    </tr>\n",
       "  </tbody>\n",
       "</table>\n",
       "<p>5 rows × 21 columns</p>\n",
       "</div>"
      ],
      "text/plain": [
       "   YEAR   JAN   FEB   MAR   APR   MAY   JUN   JUL   AUG   SEP  ...   NOV  \\\n",
       "0  1970  30.0  37.1  41.9  55.3  68.3  75.2  79.2  79.0  75.0  ...  49.3   \n",
       "1  1971  31.3  39.1  43.2  55.0  63.7  75.9  78.3  76.7  73.0  ...  48.2   \n",
       "2  1972  38.5  36.5  45.6  54.1  64.6  70.2  77.5  75.9  71.0  ...  46.8   \n",
       "3  1973  37.6  37.0  51.1  56.0  62.8  77.1  79.2  79.9  74.3  ...  51.6   \n",
       "4  1974  42.9  39.2  49.2  58.3  65.1  71.5  79.0  78.4  70.2  ...  50.9   \n",
       "\n",
       "    DEC   ANN  WINTER   SPRING  SUMMER  AUTUMN  1ST HALF  2ND HALF  \\\n",
       "0  39.7  57.7     34.5    55.2    77.8    62.3      51.3      64.1   \n",
       "1  45.5  57.9     36.7    54.0    77.0    62.0      51.4      64.4   \n",
       "2  43.6  56.7     40.2    54.8    74.5    57.9      51.6      61.8   \n",
       "3  41.9  59.3     39.4    56.6    78.7    63.1      53.6      65.0   \n",
       "4  43.1  58.8     41.3    57.5    76.3    59.5      54.4      63.2   \n",
       "\n",
       "   Unnamed: 20  \n",
       "0          NaN  \n",
       "1          NaN  \n",
       "2          NaN  \n",
       "3          NaN  \n",
       "4          NaN  \n",
       "\n",
       "[5 rows x 21 columns]"
      ]
     },
     "execution_count": 3,
     "metadata": {},
     "output_type": "execute_result"
    }
   ],
   "source": [
    "# Read DC Temperature data from csv file\n",
    "DCtemps = pd.read_csv('data/DCtemps.csv')\n",
    "DCtemps.head()"
   ]
  },
  {
   "cell_type": "code",
   "execution_count": 4,
   "metadata": {},
   "outputs": [
    {
     "data": {
      "text/html": [
       "<div>\n",
       "<style scoped>\n",
       "    .dataframe tbody tr th:only-of-type {\n",
       "        vertical-align: middle;\n",
       "    }\n",
       "\n",
       "    .dataframe tbody tr th {\n",
       "        vertical-align: top;\n",
       "    }\n",
       "\n",
       "    .dataframe thead th {\n",
       "        text-align: right;\n",
       "    }\n",
       "</style>\n",
       "<table border=\"1\" class=\"dataframe\">\n",
       "  <thead>\n",
       "    <tr style=\"text-align: right;\">\n",
       "      <th></th>\n",
       "      <th>YEAR</th>\n",
       "      <th>ANN</th>\n",
       "    </tr>\n",
       "  </thead>\n",
       "  <tbody>\n",
       "    <tr>\n",
       "      <th>0</th>\n",
       "      <td>1970</td>\n",
       "      <td>57.7</td>\n",
       "    </tr>\n",
       "    <tr>\n",
       "      <th>1</th>\n",
       "      <td>1971</td>\n",
       "      <td>57.9</td>\n",
       "    </tr>\n",
       "    <tr>\n",
       "      <th>2</th>\n",
       "      <td>1972</td>\n",
       "      <td>56.7</td>\n",
       "    </tr>\n",
       "    <tr>\n",
       "      <th>3</th>\n",
       "      <td>1973</td>\n",
       "      <td>59.3</td>\n",
       "    </tr>\n",
       "    <tr>\n",
       "      <th>4</th>\n",
       "      <td>1974</td>\n",
       "      <td>58.8</td>\n",
       "    </tr>\n",
       "  </tbody>\n",
       "</table>\n",
       "</div>"
      ],
      "text/plain": [
       "   YEAR   ANN\n",
       "0  1970  57.7\n",
       "1  1971  57.9\n",
       "2  1972  56.7\n",
       "3  1973  59.3\n",
       "4  1974  58.8"
      ]
     },
     "execution_count": 4,
     "metadata": {},
     "output_type": "execute_result"
    }
   ],
   "source": [
    "# Extract the 'YEAR' and 'ANN' columns from DCtemps\n",
    "DCtempsdf = DCtemps[['YEAR', 'ANN']]\n",
    "DCtempsdf.head()"
   ]
  },
  {
   "cell_type": "code",
   "execution_count": 5,
   "metadata": {},
   "outputs": [
    {
     "data": {
      "text/html": [
       "<div>\n",
       "<style scoped>\n",
       "    .dataframe tbody tr th:only-of-type {\n",
       "        vertical-align: middle;\n",
       "    }\n",
       "\n",
       "    .dataframe tbody tr th {\n",
       "        vertical-align: top;\n",
       "    }\n",
       "\n",
       "    .dataframe thead th {\n",
       "        text-align: right;\n",
       "    }\n",
       "</style>\n",
       "<table border=\"1\" class=\"dataframe\">\n",
       "  <thead>\n",
       "    <tr style=\"text-align: right;\">\n",
       "      <th></th>\n",
       "      <th>Year</th>\n",
       "      <th>CO2EMISSIONS</th>\n",
       "    </tr>\n",
       "  </thead>\n",
       "  <tbody>\n",
       "    <tr>\n",
       "      <th>0</th>\n",
       "      <td>1970</td>\n",
       "      <td>13.6</td>\n",
       "    </tr>\n",
       "    <tr>\n",
       "      <th>1</th>\n",
       "      <td>1971</td>\n",
       "      <td>11.9</td>\n",
       "    </tr>\n",
       "    <tr>\n",
       "      <th>2</th>\n",
       "      <td>1972</td>\n",
       "      <td>11.3</td>\n",
       "    </tr>\n",
       "    <tr>\n",
       "      <th>3</th>\n",
       "      <td>1973</td>\n",
       "      <td>11.9</td>\n",
       "    </tr>\n",
       "    <tr>\n",
       "      <th>4</th>\n",
       "      <td>1974</td>\n",
       "      <td>9.8</td>\n",
       "    </tr>\n",
       "  </tbody>\n",
       "</table>\n",
       "</div>"
      ],
      "text/plain": [
       "   Year  CO2EMISSIONS\n",
       "0  1970          13.6\n",
       "1  1971          11.9\n",
       "2  1972          11.3\n",
       "3  1973          11.9\n",
       "4  1974           9.8"
      ]
     },
     "execution_count": 5,
     "metadata": {},
     "output_type": "execute_result"
    }
   ],
   "source": [
    "# Drop columns that don't include information about the yearly emissions\n",
    "DCemissions.drop(columns=['Percent', 'Absolute', 'Percent.1', 'Absolute.1'], inplace=True)\n",
    "\n",
    "# Unpivot the DCemissions dataframe from a wide format to a long format\n",
    "DCemissionsdf = DCemissions.melt(id_vars='State', var_name='Year', value_name='CO2EMISSIONS')\n",
    "\n",
    "# Drop the 'State' column from DCemissionsdf\n",
    "DCemissionsdf.drop(columns=['State'], inplace=True)\n",
    "\n",
    "DCemissionsdf.head()"
   ]
  },
  {
   "cell_type": "code",
   "execution_count": 6,
   "metadata": {},
   "outputs": [
    {
     "data": {
      "text/html": [
       "<div>\n",
       "<style scoped>\n",
       "    .dataframe tbody tr th:only-of-type {\n",
       "        vertical-align: middle;\n",
       "    }\n",
       "\n",
       "    .dataframe tbody tr th {\n",
       "        vertical-align: top;\n",
       "    }\n",
       "\n",
       "    .dataframe thead th {\n",
       "        text-align: right;\n",
       "    }\n",
       "</style>\n",
       "<table border=\"1\" class=\"dataframe\">\n",
       "  <thead>\n",
       "    <tr style=\"text-align: right;\">\n",
       "      <th></th>\n",
       "      <th>YEAR</th>\n",
       "      <th>ANN</th>\n",
       "      <th>CO2EMISSIONS</th>\n",
       "    </tr>\n",
       "  </thead>\n",
       "  <tbody>\n",
       "    <tr>\n",
       "      <th>0</th>\n",
       "      <td>1970</td>\n",
       "      <td>57.7</td>\n",
       "      <td>13.6</td>\n",
       "    </tr>\n",
       "    <tr>\n",
       "      <th>1</th>\n",
       "      <td>1971</td>\n",
       "      <td>57.9</td>\n",
       "      <td>11.9</td>\n",
       "    </tr>\n",
       "    <tr>\n",
       "      <th>2</th>\n",
       "      <td>1972</td>\n",
       "      <td>56.7</td>\n",
       "      <td>11.3</td>\n",
       "    </tr>\n",
       "    <tr>\n",
       "      <th>3</th>\n",
       "      <td>1973</td>\n",
       "      <td>59.3</td>\n",
       "      <td>11.9</td>\n",
       "    </tr>\n",
       "    <tr>\n",
       "      <th>4</th>\n",
       "      <td>1974</td>\n",
       "      <td>58.8</td>\n",
       "      <td>9.8</td>\n",
       "    </tr>\n",
       "  </tbody>\n",
       "</table>\n",
       "</div>"
      ],
      "text/plain": [
       "   YEAR   ANN  CO2EMISSIONS\n",
       "0  1970  57.7          13.6\n",
       "1  1971  57.9          11.9\n",
       "2  1972  56.7          11.3\n",
       "3  1973  59.3          11.9\n",
       "4  1974  58.8           9.8"
      ]
     },
     "execution_count": 6,
     "metadata": {},
     "output_type": "execute_result"
    }
   ],
   "source": [
    "# Merge the DCtempsdf and DCemissionsdf dataframes\n",
    "merged = pd.concat([DCtempsdf, DCemissionsdf], axis=1)\n",
    "\n",
    "# Drop the 'Year' column from DCemissionsdf\n",
    "merged.drop(columns=['Year'], inplace=True)\n",
    "\n",
    "merged.head()"
   ]
  },
  {
   "cell_type": "code",
   "execution_count": 7,
   "metadata": {},
   "outputs": [
    {
     "data": {
      "text/html": [
       "<div>\n",
       "<style scoped>\n",
       "    .dataframe tbody tr th:only-of-type {\n",
       "        vertical-align: middle;\n",
       "    }\n",
       "\n",
       "    .dataframe tbody tr th {\n",
       "        vertical-align: top;\n",
       "    }\n",
       "\n",
       "    .dataframe thead th {\n",
       "        text-align: right;\n",
       "    }\n",
       "</style>\n",
       "<table border=\"1\" class=\"dataframe\">\n",
       "  <thead>\n",
       "    <tr style=\"text-align: right;\">\n",
       "      <th></th>\n",
       "      <th>Annual_Temp_Fahrenheit</th>\n",
       "      <th>CO2_Emissions_Tons</th>\n",
       "    </tr>\n",
       "    <tr>\n",
       "      <th>YEAR</th>\n",
       "      <th></th>\n",
       "      <th></th>\n",
       "    </tr>\n",
       "  </thead>\n",
       "  <tbody>\n",
       "    <tr>\n",
       "      <th>1970</th>\n",
       "      <td>57.7</td>\n",
       "      <td>13.6</td>\n",
       "    </tr>\n",
       "    <tr>\n",
       "      <th>1971</th>\n",
       "      <td>57.9</td>\n",
       "      <td>11.9</td>\n",
       "    </tr>\n",
       "    <tr>\n",
       "      <th>1972</th>\n",
       "      <td>56.7</td>\n",
       "      <td>11.3</td>\n",
       "    </tr>\n",
       "    <tr>\n",
       "      <th>1973</th>\n",
       "      <td>59.3</td>\n",
       "      <td>11.9</td>\n",
       "    </tr>\n",
       "    <tr>\n",
       "      <th>1974</th>\n",
       "      <td>58.8</td>\n",
       "      <td>9.8</td>\n",
       "    </tr>\n",
       "  </tbody>\n",
       "</table>\n",
       "</div>"
      ],
      "text/plain": [
       "      Annual_Temp_Fahrenheit  CO2_Emissions_Tons\n",
       "YEAR                                            \n",
       "1970                    57.7                13.6\n",
       "1971                    57.9                11.9\n",
       "1972                    56.7                11.3\n",
       "1973                    59.3                11.9\n",
       "1974                    58.8                 9.8"
      ]
     },
     "execution_count": 7,
     "metadata": {},
     "output_type": "execute_result"
    }
   ],
   "source": [
    "# Set the index of the merged dataframe to the 'YEAR' column\n",
    "merged.set_index(merged['YEAR'], inplace=True)\n",
    "\n",
    "# Drop the 'YEAR' column from the merged dataframe\n",
    "merged.drop(columns=['YEAR'], inplace=True)\n",
    "\n",
    "# Rename the columns of the merged dataframe\n",
    "merged.rename(columns={'ANN': 'Annual_Temp_Fahrenheit', 'CO2EMISSIONS': 'CO2_Emissions_Tons'}, inplace=True)\n",
    "\n",
    "merged.head()"
   ]
  },
  {
   "cell_type": "code",
   "execution_count": 8,
   "metadata": {},
   "outputs": [
    {
     "data": {
      "text/plain": [
       "<matplotlib.legend.Legend at 0x7fe798b54370>"
      ]
     },
     "execution_count": 8,
     "metadata": {},
     "output_type": "execute_result"
    },
    {
     "data": {
      "image/png": "[encoded data removed]",
      "text/plain": [
       "<Figure size 864x504 with 1 Axes>"
      ]
     },
     "metadata": {
      "needs_background": "light"
     },
     "output_type": "display_data"
    }
   ],
   "source": [
    "ax = merged.plot.bar(stacked=False, figsize=(12, 7))\n",
    "ax.legend(loc='center left', bbox_to_anchor=(1, 0.5))"
   ]
  },
  {
   "attachments": {},
   "cell_type": "markdown",
   "metadata": {},
   "source": [
    "# Results\n",
    "\n",
    "Summarizes and visualizes the data as appropriate to address your goal. May be broken down into subsections if that makes sense."
   ]
  },
  {
   "attachments": {},
   "cell_type": "markdown",
   "metadata": {},
   "source": [
    "The visualization below shows the trends in Annual Temperature and CO<sub>2</sub> from 1970 to 2020. "
   ]
  },
  {
   "cell_type": "code",
   "execution_count": 17,
   "metadata": {},
   "outputs": [
    {
     "data": {
      "image/png": "[encoded data removed]",
      "text/plain": [
       "<Figure size 864x504 with 2 Axes>"
      ]
     },
     "metadata": {},
     "output_type": "display_data"
    }
   ],
   "source": [
    "# Rename merged data frame to df\n",
    "df = merged\n",
    "\n",
    "# Use a predefined style for better aesthetics\n",
    "plt.style.use('ggplot')\n",
    "\n",
    "# Create a new figure and a subplot\n",
    "fig, ax1 = plt.subplots(figsize=(12, 7))\n",
    "\n",
    "# Set the x-axis label\n",
    "ax1.set_xlabel('Year')\n",
    "\n",
    "# Set the y-axis label for the first plot (Annual Temperature)\n",
    "ax1.set_ylabel('Annual Temperature (F)', color='tab:blue')\n",
    "\n",
    "# Create the first line plot for Annual Temperature\n",
    "ax1.plot(df.index, df['Annual_Temp_Fahrenheit'], color='tab:blue', linestyle='--', linewidth=2, marker='o')\n",
    "\n",
    "# Set the y-axis tick label color for the first plot\n",
    "ax1.tick_params(axis='y', labelcolor='tab:blue')\n",
    "\n",
    "# Set the limits for the x-axis and the first y-axis\n",
    "ax1.set_xlim(df.index.min(), df.index.max())\n",
    "ax1.set_ylim(df['Annual_Temp_Fahrenheit'].min(), df['Annual_Temp_Fahrenheit'].max())\n",
    "\n",
    "# Add a legend for the first plot\n",
    "ax1.legend(['Annual Temperature (F)'], loc='upper left')\n",
    "\n",
    "# Remove gridlines to the first plot\n",
    "ax1.grid(False)\n",
    "\n",
    "# Create a second y-axis sharing the same x-axis\n",
    "ax2 = ax1.twinx()\n",
    "\n",
    "# Set the y-axis label for the second plot (CO2 Emissions)\n",
    "ax2.set_ylabel('CO2_Emissions (Tons)', color='tab:red')\n",
    "\n",
    "# Create the second line plot for CO2 Emissions\n",
    "ax2.plot(df.index, df['CO2_Emissions_Tons'], color='tab:red', linestyle=':', linewidth=2, marker='x')\n",
    "\n",
    "# Set the y-axis tick label color for the second plot\n",
    "ax2.tick_params(axis='y', labelcolor='tab:red')\n",
    "\n",
    "# Set the limits for the second y-axis\n",
    "ax2.set_ylim(df['CO2_Emissions_Tons'].min(), df['CO2_Emissions_Tons'].max())\n",
    "\n",
    "# Add a legend for the second plot\n",
    "ax2.legend(['CO2 Emissions (Tons)'], loc='upper right')\n",
    "\n",
    "# Remove gridlines again\n",
    "ax2.grid(False)\n",
    "\n",
    "# Set the frequency of ticks on the x-axis\n",
    "ticks_frequency = 5\n",
    "xticks = np.arange(df.index.min(), df.index.max(), ticks_frequency)\n",
    "ax1.set_xticks(xticks)\n",
    "\n",
    "# Adjust the layout for better presentation\n",
    "fig.tight_layout()\n",
    "\n",
    "# Set the title for the plot\n",
    "plt.title('Annual Temperature and CO2 Emissions Over Time')\n",
    "\n",
    "# Display the plot\n",
    "plt.show()\n"
   ]
  },
  {
   "attachments": {},
   "cell_type": "markdown",
   "metadata": {},
   "source": [
    "### Annual Temperature \n",
    "The annual temperature in DC shows a general upward trend over the past 50 years. This suggests that the average temperature in the region has been increasing, which could be a result of various factors, including global climate change.\n",
    "\n",
    "### CO2 Emissions \n",
    "The CO2 emissions in DC have been decreasing over the years. This is a positive sign, as it shows that efforts have been made to reduce carbon emissions in the area. It's important to consider that various factors could contribute to this decrease, such as the implementation of climate policies, advancements in cleaner technologies, and increased awareness of the environmental impacts of CO2 emissions.\n",
    "\n",
    "### Overall\n",
    "While the data shows an overall increase in annual temperature and a decrease in CO2 emissions, it doesn't necessarily imply a direct causal relationship between the reduction in CO2 emissions and the increasing temperature trend. Climate change is a complex phenomenon influenced by numerous factors, and the relationship between local CO2 emissions and temperature trends may not be straightforward. The line plot of the provided data highlights the trends in annual temperature and CO2 emissions in DC over the past 50 years, with the increasing temperature trend aligning with broader concerns of climate change and the decrease in CO2 emissions indicating efforts to mitigate its impacts."
   ]
  },
  {
   "attachments": {},
   "cell_type": "markdown",
   "metadata": {},
   "source": [
    "# Discussion (several paragraphs)\n",
    "What are the implications of your findings with respect to your goal"
   ]
  },
  {
   "attachments": {},
   "cell_type": "markdown",
   "metadata": {},
   "source": [
    "The objective of this project was to investigate the potential relationship between carbon dioxide emissions and temperature in the Washington DC area. The purpose of this investigation was to recommend further action based on the findings. Although our analysis did not uncover a direct correlation between these variables, it did reveal that the temperature has exhibited significant fluctuations over the past 50 years with an overall increase.\n",
    "\n",
    "According to climate.gov, carbon dioxide is considered the most critical greenhouse gas as it is responsible for absorbing heat and radiating it back to the Earth's surface. Our initial assumption was that reducing carbon dioxide emissions would lead to a corresponding reduction in temperature. However, our findings indicate that despite a steady decrease in carbon dioxide emissions, the temperature in the DC area has continued to rise over the past 50 years. The United States Environmental Protection Agency (EPA) reported that in 2021 alone, the U.S. emitted 6,340.2 million metric tons of carbon dioxide equivalents, and the DC area has experienced a decrease in emissions while emissions across the U.S. have remained steady at around 6000 million metric tons per year for the last three decades.\n",
    "\n",
    "Our analysis highlights that mitigation efforts in a single city or state are insufficient to reduce the impact of carbon emissions on climate change. Therefore, it is crucial for policymakers across different industries and the government to implement necessary strategies that will result in a decline in carbon emissions. The transportation sector is one of the significant contributors to greenhouse emissions, accounting for over 30% of all emissions since 1970, according to the EPA. One potential solution to reducing emissions nationwide would be for the U.S. government to enforce stricter restrictions on vehicle manufacturers and enact harsher fines for those that are non-compliant. This is just one of the many strategies that could be implemented to reduce emissions and limit their impact on the environment."
   ]
  },
  {
   "attachments": {},
   "cell_type": "markdown",
   "metadata": {},
   "source": [
    "# Limitations (couple paragraphs)\n",
    "What are the limitations of the data set and your analyses"
   ]
  },
  {
   "attachments": {},
   "cell_type": "markdown",
   "metadata": {},
   "source": [
    "One limitation of our dataset was the attribute we looked at, which was CO2 emissions. We found that there wasn’t much of a link between temperature and CO2 emissions in DC, so we’d ideally want to have more data to look at other attributes that could be more closely linked to temperature rises and falls. \n",
    "\n",
    "Another limitation of our dataset was that we only had temperature data for DC. We could get a more complete picture of how temperature and CO2 emissions are related if we looked at more states, which we’d need data for."
   ]
  },
  {
   "attachments": {},
   "cell_type": "markdown",
   "metadata": {},
   "source": [
    "# Conclusion (couple paragraphs)\n",
    "What is the final take away from your work\n",
    "\n",
    "From our goal to determine whether historical emissions may have had an impact on temperature trends in DC over the past 50 years we were proved unsucessful to deduce said information. Throughout this process of cleaning our data, interpreting, making visualizations and coming to our conclusion we learned that DC has been trying to become more carbon footprint friendly city. We have also deduced that the flucuations of temperature cannot be related cities overall carbon impact.Temperatures are flucating more and one city is not enough to change this problem it will take policymakers and other government sanction actions to make this a reality. "
   ]
  },
  {
   "cell_type": "code",
   "execution_count": 13,
   "metadata": {},
   "outputs": [
    {
     "data": {
      "text/plain": [
       "Year            1970197119721973197419751976197719781979198019...\n",
       "CO2EMISSIONS                                               257.72\n",
       "dtype: object"
      ]
     },
     "execution_count": 13,
     "metadata": {},
     "output_type": "execute_result"
    }
   ],
   "source": [
    "DCemissionsdf.sum()"
   ]
  }
 ],
 "metadata": {
  "kernelspec": {
   "display_name": "Python 3",
   "language": "python",
   "name": "python3"
  },
  "language_info": {
   "codemirror_mode": {
    "name": "ipython",
    "version": 3
   },
   "file_extension": ".py",
   "mimetype": "text/x-python",
   "name": "python",
   "nbconvert_exporter": "python",
   "pygments_lexer": "ipython3",
   "version": "3.8.2"
  },
  "orig_nbformat": 4,
  "vscode": {
   "interpreter": {
    "hash": "aee8b7b246df8f9039afb4144a1f6fd8d2ca17a180786b69acc140d282b71a49"
   }
  }
 },
 "nbformat": 4,
 "nbformat_minor": 2
}
